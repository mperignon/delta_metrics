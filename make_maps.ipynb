{
 "cells": [
  {
   "cell_type": "code",
   "execution_count": 68,
   "metadata": {},
   "outputs": [],
   "source": [
    "import numpy as np\n",
    "from scipy.io import loadmat\n",
    "import matplotlib.pyplot as plt\n",
    "%matplotlib inline\n",
    "\n",
    "from make_map import make_map\n",
    "\n",
    "from file_util import load_matlab_data\n",
    "from channel_overlap import *\n",
    "from plot import plot_discharge\n",
    "from metrics import *\n",
    "from stratigraphy import *\n",
    "from spatial_dist import *\n",
    "from profiles import *\n",
    "from make_pretty_images import *\n",
    "\n",
    "  \n",
    "import cPickle as pickle"
   ]
  },
  {
   "cell_type": "code",
   "execution_count": 2,
   "metadata": {},
   "outputs": [],
   "source": [
    "TH_TOPO = -0.5\n",
    "TH_ANGLE = 75\n",
    "TH_VEL = 0.3 # use the threshold value for mud deposition (U_dep_mud)\n",
    "\n",
    "fbase = 'baseF25data'\n",
    "froot = '../JGR2016_data/'\n",
    "sroot = 'mapfiles/'"
   ]
  },
  {
   "cell_type": "code",
   "execution_count": 20,
   "metadata": {},
   "outputs": [
    {
     "name": "stdout",
     "output_type": "stream",
     "text": [
      "Created new colormap 'eta_cmap'\n"
     ]
    }
   ],
   "source": [
    "# for individual datasets\n",
    "\n",
    "for fnum in range(4099,4100):\n",
    "\n",
    "    fname = fbase + str(fnum)\n",
    "    data = load_matlab_data(froot, fname)\n",
    "\n",
    "    topo = data['eta']\n",
    "    uw = data['uw']\n",
    "    \n",
    "    \n",
    "    '''\n",
    "    Metrics calculated from the raw model output data\n",
    "    '''\n",
    "    \n",
    "    # pretty RGB image showing topo in gray with water in blue\n",
    "    topo_IMG = water_RGB_image(data['eta'], data['uw'], data['qw'])\n",
    "    \n",
    "    # creates colormap 'eta_cmap' good for plotting model topography\n",
    "    # use like any other colormap\n",
    "    elevation_colormap()\n",
    "    \n",
    "    # histograms of quantities\n",
    "    bins, hists, cumhist, masks = quantity_histograms(topo,\n",
    "                                                      min_bin = -3, max_bin = 1, dbin = 0.025,\n",
    "                                                      radius1 = 3, radius2 = 30, radius3 = 90,\n",
    "                                                      angle = np.pi/6.)\n",
    "    \n",
    "    \n",
    "    # elevation profile at certain radii from source\n",
    "    rad_profiles = radial_profile(data['eta'], [0.25, 0.5, 0.75])\n",
    "\n",
    "    # longitudinal profile along main channel\n",
    "    path_IMG, distance, long_profile = main_channel_path(data['eta'], threshold_value = 1)\n",
    "\n",
    "    # get slices of topography (planview) at certain heights\n",
    "    slices = slice_topography(data['eta'], [0, 0.25, 0.5])\n",
    "    \n",
    "    # total sediment volumes with optional mask\n",
    "    dx = 100\n",
    "    dz = 0.005 * 5 # spacing between saved strata\n",
    "    mask = np.ones_like(topo)\n",
    "    mask[:,:120] = 0\n",
    "\n",
    "    vol_total, vol_sand, frac_sand = sediment_volumes(data['strata'], dx, dz, mask = mask)\n",
    "    \n",
    "    # sediment characteristics at certain radii from source\n",
    "    seds = sedimentograph(data['strata'], step_radius = 10)\n",
    "    \n",
    "    # vertical slices of stratigraphy at certain radii from source\n",
    "    strata_IMGs = radial_stratigraphy(data['strata'], radii = [0.3, 0.5])\n",
    "    \n",
    "    # sand body properties\n",
    "    sand_corrL, sand_corrW = sand_body_properties(strata_IMGs[0])\n",
    "    \n",
    "    break\n",
    "    \n",
    "    \n",
    "    \n",
    "    \n",
    "    # clip to make the file smaller\n",
    "    topo_clip = topo[3:-5,5:-10]\n",
    "    vel_clip = uw[3:-5,5:-10]\n",
    "\n",
    "    mapfile = make_map(topo_clip,\n",
    "                       vel_clip,\n",
    "                       topo_threshold = TH_TOPO,\n",
    "                       angle_threshold = TH_ANGLE,\n",
    "                       velocity_threshold = TH_VEL,\n",
    "                       numviews = 5,\n",
    "                       save_file = True,\n",
    "                       sroot = sroot,\n",
    "                       fname = fname)\n",
    "    \n",
    "    '''\n",
    "    Metrics calculated from the derived maps\n",
    "    '''\n",
    "    \n",
    "    # areas and fractional areas\n",
    "    frac_areas = fractional_areas(mapfile)\n",
    "    \n",
    "    # fractal dimension of channel network\n",
    "    D_frac = fractal_dimension(mapfile['centerlinemap'])\n",
    "    \n",
    "    # island properties and map of edge distances\n",
    "    island_IMG, island_props, ecdf, edgedist_IMG, edgedist_hist = island_properties(mapfile,\n",
    "                                                                              smooth = True,\n",
    "                                                                              properties = True)\n",
    "    \n",
    "    \n",
    "    \n"
   ]
  },
  {
   "cell_type": "code",
   "execution_count": 69,
   "metadata": {},
   "outputs": [],
   "source": [
    "from scipy import signal\n",
    "\n",
    "fname = fbase + str(4100)\n",
    "data = load_matlab_data(froot, fname)\n",
    "\n",
    "strata_IMGs = radial_stratigraphy(data['strata'], radii = [0.5], density = 1.5)"
   ]
  },
  {
   "cell_type": "code",
   "execution_count": 54,
   "metadata": {},
   "outputs": [
    {
     "data": {
      "text/plain": [
       "(1000,)"
      ]
     },
     "execution_count": 54,
     "metadata": {},
     "output_type": "execute_result"
    }
   ],
   "source": [
    "sand_body_properties(strata_IMG)"
   ]
  },
  {
   "cell_type": "code",
   "execution_count": null,
   "metadata": {},
   "outputs": [],
   "source": []
  },
  {
   "cell_type": "code",
   "execution_count": null,
   "metadata": {},
   "outputs": [],
   "source": []
  },
  {
   "cell_type": "code",
   "execution_count": null,
   "metadata": {},
   "outputs": [],
   "source": []
  },
  {
   "cell_type": "code",
   "execution_count": null,
   "metadata": {},
   "outputs": [],
   "source": []
  },
  {
   "cell_type": "code",
   "execution_count": null,
   "metadata": {},
   "outputs": [],
   "source": []
  },
  {
   "cell_type": "code",
   "execution_count": null,
   "metadata": {},
   "outputs": [],
   "source": []
  },
  {
   "cell_type": "code",
   "execution_count": 63,
   "metadata": {},
   "outputs": [],
   "source": [
    "# for multiple datasets\n",
    "\n",
    "# map of changes in channel position over time\n",
    "filenames = [sroot + fbase + str(i) + '.p' for i in range(4005,4010)]\n",
    "overlap_IMG, overlap_diff, phi, O_phi, f_R = channel_overlap(filenames)"
   ]
  },
  {
   "cell_type": "code",
   "execution_count": null,
   "metadata": {},
   "outputs": [],
   "source": [
    "# image of superimposed channels over time\n",
    "channel_overlay_IMG = channel_overlay(froot, fbase, (4010,4012))"
   ]
  },
  {
   "cell_type": "code",
   "execution_count": null,
   "metadata": {},
   "outputs": [],
   "source": [
    "# correlation of channel position over time\n",
    "decay = channel_decay(froot, fbase, (4050,4100), number_of_comparisons = 50, average = True)\n",
    "\n",
    "# curve fits for decay data\n",
    "exponential = channel_decay_curve_fit(decay, fit = 'exponential')\n",
    "harmonic = channel_decay_curve_fit(decay, fit = 'harmonic')\n",
    "linear = channel_decay_curve_fit(decay, fit = 'linear')\n",
    "\n",
    "plt.plot(exponential['xdata'], decay, 'ko')\n",
    "plt.plot(exponential['xdata'], exponential['fit'], 'r')\n",
    "plt.plot(harmonic['xdata'], harmonic['fit'], 'b')\n",
    "plt.plot(linear['xdata'], linear['fit'], 'g')"
   ]
  },
  {
   "cell_type": "code",
   "execution_count": null,
   "metadata": {},
   "outputs": [],
   "source": []
  },
  {
   "cell_type": "code",
   "execution_count": null,
   "metadata": {},
   "outputs": [],
   "source": []
  },
  {
   "cell_type": "code",
   "execution_count": 66,
   "metadata": {},
   "outputs": [
    {
     "data": {
      "text/plain": [
       "array([   0.,  245.,  354.,  438.,  564.])"
      ]
     },
     "execution_count": 66,
     "metadata": {},
     "output_type": "execute_result"
    }
   ],
   "source": [
    "difference"
   ]
  },
  {
   "cell_type": "code",
   "execution_count": null,
   "metadata": {},
   "outputs": [],
   "source": []
  }
 ],
 "metadata": {
  "anaconda-cloud": {},
  "kernelspec": {
   "display_name": "Python [default]",
   "language": "python",
   "name": "python2"
  },
  "language_info": {
   "codemirror_mode": {
    "name": "ipython",
    "version": 2
   },
   "file_extension": ".py",
   "mimetype": "text/x-python",
   "name": "python",
   "nbconvert_exporter": "python",
   "pygments_lexer": "ipython2",
   "version": "2.7.11"
  }
 },
 "nbformat": 4,
 "nbformat_minor": 2
}
